{
 "cells": [
  {
   "cell_type": "code",
   "execution_count": 19,
   "id": "7cbbef0c-8f5e-417f-8281-140a72dae26c",
   "metadata": {},
   "outputs": [
    {
     "name": "stdout",
     "output_type": "stream",
     "text": [
      "['DoS Hulk' 'DDoS' 'DoS Hulk' 'Benign' 'Benign' 'Benign' 'Benign' 'DDoS'\n",
      " 'Benign' 'DoS slowloris' 'DoS Hulk' 'PortScan' 'SSH-Patator'\n",
      " 'SSH-Patator' 'DoS Slowhttptest' 'DDoS' 'DoS Hulk' 'Benign'\n",
      " 'DoS slowloris']\n"
     ]
    }
   ],
   "source": [
    "import pandas as pd\n",
    "import numpy as np\n",
    "import joblib\n",
    "\n",
    "# Example test data with 10 rows and 5 features (values are hypothetical)\n",
    "test_data = np.array([\n",
    "[330\t,8942624\t,40200000\t,5037257.5\t,274],\n",
    "[6\t,1665408.8,\t3330184.8\t,0\t,256],\n",
    "[377,\t7659889.5\t,37600000\t,3230623.2,\t274],\n",
    "[20\t,6725727\t,28400000,\t4423095\t,256],\n",
    "[195\t,12133.167,\t41373.875,\t5711.6963\t,8192],\n",
    "[20\t,5908122\t,25400000,\t2822354\t,256],\n",
    "[42\t,48935\t,0\t,261.33334,\t-1],\n",
    "[6\t,2782929.8\t,4820172\t,0\t,256],\n",
    "[38\t,128077.664,\t0\t,3000,\t-1],\n",
    "[0\t,1501650.5\t,710402.6,\t0\t,29200],\n",
    "[361\t,9827588\t,43900000\t,6553313,\t274],\n",
    "[23\t,390935.53\t,1315818.6,\t157.81,\t29200],\n",
    "[637\t,1465310.2\t,4754215\t,4741463.5\t,29200],\n",
    "[640\t,254871.06,\t971365.2\t,35944.473,\t29200],\n",
    "[0\t,10500000\t,11900000\t,0,\t29200],\n",
    "[6\t,2637443.5\t,5274205.5\t,0\t,256],\n",
    "[302\t,7833558.5\t,38400000\t,5037320.5\t,0],\n",
    "[42,\t9202\t,0\t,3000\t,-1]\n",
    ",[0,\t1679359.6\t,3561245\t,0\t,29200]\n",
    "\n",
    "\n",
    "\n",
    "])\n",
    "\n",
    "# Correct feature names based on the model training\n",
    "correct_features = ['Fwd Packet Length Max', 'Flow IAT Max', 'Fwd IAT Std', 'Bwd Header Length', 'Init Fwd Win Bytes']\n",
    "\n",
    "# Create a DataFrame with the test data\n",
    "test_data_df = pd.DataFrame(test_data, columns=correct_features)\n",
    "\n",
    "# Load the trained model\n",
    "loaded_model = joblib.load('model.pkl')\n",
    "\n",
    "# Predict attack types using the model\n",
    "predictions = loaded_model.predict(test_data_df)\n",
    "\n",
    "# Define the mapping dictionary\n",
    "label_mapping = {\n",
    "    0: 'Benign', 1: 'Bot', 2: 'DDoS', 3: 'DoS GoldenEye',\n",
    "    4: 'DoS Hulk', 5: 'DoS Slowhttptest', 6: 'DoS slowloris',\n",
    "    7: 'FTP-Patator', 8: 'Heartbleed', 9: 'Infiltration', 10: 'PortScan',\n",
    "    11: 'SSH-Patator', 12: 'Web Attack - Brute Force', 13: 'Web Attack - Sql Injection',\n",
    "    14: 'Web Attack - XSS'\n",
    "}\n",
    "\n",
    "# Map the predictions using the dictionary\n",
    "mapped_predictions = np.array([label_mapping[pred] for pred in predictions])\n",
    "\n",
    "# Print the mapped predictions\n",
    "print(mapped_predictions)\n"
   ]
  },
  {
   "cell_type": "code",
   "execution_count": 16,
   "id": "6ee9e74e-0987-4465-9557-e6bdca6632ef",
   "metadata": {},
   "outputs": [],
   "source": [
    "# 'Fwd Packet Length Max', 'Flow IAT Mean', 'Fwd IAT Std',\n",
    "#        # 'Packet Length Variance', 'Init Fwd Win Bytes'"
   ]
  },
  {
   "cell_type": "code",
   "execution_count": null,
   "id": "06c3a7f2-23ee-4867-b4e1-de5905518c28",
   "metadata": {},
   "outputs": [],
   "source": []
  }
 ],
 "metadata": {
  "kernelspec": {
   "display_name": "Python 3 (ipykernel)",
   "language": "python",
   "name": "python3"
  },
  "language_info": {
   "codemirror_mode": {
    "name": "ipython",
    "version": 3
   },
   "file_extension": ".py",
   "mimetype": "text/x-python",
   "name": "python",
   "nbconvert_exporter": "python",
   "pygments_lexer": "ipython3",
   "version": "3.11.7"
  }
 },
 "nbformat": 4,
 "nbformat_minor": 5
}
